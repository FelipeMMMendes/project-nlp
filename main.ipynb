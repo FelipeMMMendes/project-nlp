{
 "cells": [
  {
   "cell_type": "code",
   "execution_count": 1,
   "metadata": {},
   "outputs": [],
   "source": [
    "import fitz  # PyMuPDF\n",
    "import pandas as pd\n",
    "import os\n",
    "\n",
    "def extrair_texto_pdf(caminho_pdf):\n",
    "    doc = fitz.open(caminho_pdf)\n",
    "    texto_completo = []\n",
    "    \n",
    "    for num_pagina in range(len(doc)):\n",
    "        pagina = doc[num_pagina]\n",
    "        blocos = pagina.get_text(\"blocks\")  # Obtém blocos de texto\n",
    "\n",
    "        # Ordena os blocos pela posição na página: primeiro por Y (de cima para baixo), depois por X (esquerda para direita)\n",
    "        blocos = sorted(blocos, key=lambda b: (round(b[1]), round(b[0])))\n",
    "\n",
    "        # Junta os blocos ordenados\n",
    "        texto_pagina = \" \".join(b[4] for b in blocos)\n",
    "        texto_pagina = \" \".join(texto_pagina.split())  # Remove espaços extras\n",
    "\n",
    "        texto_completo.append([os.path.basename(caminho_pdf), num_pagina + 1, texto_pagina])\n",
    "\n",
    "    return texto_completo"
   ]
  },
  {
   "cell_type": "code",
   "execution_count": 4,
   "metadata": {},
   "outputs": [],
   "source": [
    "# Pasta onde os PDFs estão\n",
    "pasta_pdfs = \"data\\PDFS\"\n",
    "dados = []\n",
    "\n",
    "# Processa cada PDF\n",
    "for arquivo in os.listdir(pasta_pdfs):\n",
    "    if arquivo.lower().endswith(\".pdf\"):\n",
    "        caminho_pdf = os.path.join(pasta_pdfs, arquivo)\n",
    "        dados.extend(extrair_texto_pdf(caminho_pdf))\n",
    "\n",
    "# Salvar como TSV\n",
    "df = pd.DataFrame(dados, columns=[\"Arquivo\", \"Página\", \"Texto\"])\n",
    "df.to_csv(\"data//TSV//raw_data.tsv\", sep=\"\\t\", index=False)"
   ]
  }
 ],
 "metadata": {
  "kernelspec": {
   "display_name": "venv",
   "language": "python",
   "name": "python3"
  },
  "language_info": {
   "codemirror_mode": {
    "name": "ipython",
    "version": 3
   },
   "file_extension": ".py",
   "mimetype": "text/x-python",
   "name": "python",
   "nbconvert_exporter": "python",
   "pygments_lexer": "ipython3",
   "version": "3.11.9"
  }
 },
 "nbformat": 4,
 "nbformat_minor": 2
}
